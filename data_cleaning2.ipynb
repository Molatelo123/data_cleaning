{
 "cells": [
  {
   "cell_type": "code",
   "execution_count": null,
   "metadata": {},
   "outputs": [],
   "source": [
    "import pandas as pd\n",
    "from datetime import datetime\n",
    "from fuzzywuzzy import process"
   ]
  },
  {
   "cell_type": "code",
   "execution_count": null,
   "metadata": {},
   "outputs": [],
   "source": [
    "# Load the CSV file\n",
    "df = pd.read_csv('store_income_data_task.csv')"
   ]
  },
  {
   "cell_type": "code",
   "execution_count": null,
   "metadata": {},
   "outputs": [],
   "source": [
    "# Display original unique values in the 'country' column\n",
    "print(\"Unique values in the 'country' column before cleaning:\")\n",
    "print(df['country'].unique())\n"
   ]
  },
  {
   "cell_type": "code",
   "execution_count": null,
   "metadata": {},
   "outputs": [],
   "source": [
    "# Clean the \"country\" column: Convert to lowercase and remove trailing white spaces\n",
    "df['country'] = df['country'].str.lower().str.strip()\n"
   ]
  },
  {
   "cell_type": "code",
   "execution_count": null,
   "metadata": {},
   "outputs": [],
   "source": [
    "# Manually replace punctuations/undesirable characters\n",
    "punctuation_replacements = {\n",
    "    'sa.': 'south africa', 'sa/': 'south africa', 's. africasouth africa': 'south africa'\n",
    "}\n",
    "df['country'] = df['country'].replace(punctuation_replacements)\n",
    "\n",
    "# Define the target country names\n",
    "target_countries = ['united kingdom', 'united states', 'south africa']\n",
    " "
   ]
  },
  {
   "cell_type": "code",
   "execution_count": null,
   "metadata": {},
   "outputs": [],
   "source": [
    "# Function to replace close matches with target strings\n",
    "def replace_with_best_match(value, target_list):\n",
    "    match, score = process.extractOne(value, target_list)\n",
    "    return match if score > 80 else value\n"
   ]
  },
  {
   "cell_type": "code",
   "execution_count": null,
   "metadata": {},
   "outputs": [],
   "source": [
    "# Apply the replacement function to the 'country' column using a lambda function\n",
    "df['country'] = df['country'].apply(lambda x: replace_with_best_match(x, target_countries))\n"
   ]
  },
  {
   "cell_type": "code",
   "execution_count": null,
   "metadata": {},
   "outputs": [],
   "source": [
    "# Display unique values in the 'country' column after cleaning\n",
    "print(\"\\nUnique values in the 'country' column after cleaning:\")\n",
    "print(df['country'].unique())"
   ]
  },
  {
   "cell_type": "code",
   "execution_count": null,
   "metadata": {},
   "outputs": [],
   "source": [
    "# Calculate the days passed since 'date_measured' for a new column 'days_ago'\n",
    "today = datetime.today().date()\n",
    "df['date_measured'] = pd.to_datetime(df['date_measured']).dt.date\n",
    "df['days_ago'] = (today - df['date_measured']).apply(lambda x: x.days)\n"
   ]
  },
  {
   "cell_type": "code",
   "execution_count": null,
   "metadata": {},
   "outputs": [],
   "source": [
    "# Display a sample of the cleaned DataFrame\n",
    "print(\"\\nSample of the cleaned DataFrame:\")\n",
    "print(df.head())"
   ]
  },
  {
   "cell_type": "markdown",
   "metadata": {},
   "source": [
    " # i use an extension of jupiter notebook inside\\via visual studio code i hope the lecture marking this will have an understanding of this since there is a complain about this task not being done in jupiter notebook. "
   ]
  }
 ],
 "metadata": {
  "kernelspec": {
   "display_name": "Python 3",
   "language": "python",
   "name": "python3"
  },
  "language_info": {
   "name": "python",
   "version": "3.9.6"
  }
 },
 "nbformat": 4,
 "nbformat_minor": 2
}
